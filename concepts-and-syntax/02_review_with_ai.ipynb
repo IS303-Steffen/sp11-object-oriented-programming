{
 "cells": [
  {
   "cell_type": "markdown",
   "id": "e7b07ba9",
   "metadata": {},
   "source": [
    "\n",
    "# Review with AI: Object-Oriented Programming (OOP)\n",
    "\n",
    "Use this notebook to improve your understanding of how Python classes and objects work, including attributes, methods, and the use of `self`.\n",
    "\n",
    "### How to use this notebook:\n",
    "- **Copy and paste** the provided prompts and questions into your preferred AI tool (such as ChatGPT or Copilot).\n",
    "- **Check your understanding** by explaining concepts in your own words and having AI correct or clarify your explanations.\n",
    "- **Generate a practice problem** using the prompt below and try solving it on your own.\n"
   ]
  },
  {
   "cell_type": "markdown",
   "id": "b84fe532",
   "metadata": {},
   "source": [
    "\n",
    "## AI Setup Prompt\n",
    "\n",
    "Start by pasting this into your AI to guide the interaction:\n",
    "\n",
    "```\n",
    "I am a beginner in an introductory Python programming course. When I ask questions or describe a concept, please respond as my tutor by explaining in simple, easy-to-understand language. Correct any mistakes I make and help clarify misconceptions. You can use examples or metaphors when helpful. Let me know if my understanding is correct or where I might be going wrong.\n",
    "```\n"
   ]
  },
  {
   "cell_type": "markdown",
   "id": "31f34fbd",
   "metadata": {},
   "source": [
    "\n",
    "## Questions to Review Concepts\n",
    "\n",
    "Ask your AI tutor these questions to strengthen your understanding of object-oriented programming:\n",
    "\n",
    "- What does object-oriented programming mean? How does it relate to classes in Python?\n",
    "- What is the `__init__` method in a class? How does it relate to instance variables?\n",
    "- When is the `__init__` method called? I don’t get when or how it runs.\n",
    "- What’s the difference between instance variables and class variables?\n",
    "- What’s the difference between a function and a method?\n",
    "- Why do all the methods I write need `self` as the first parameter? What is `self`?\n"
   ]
  },
  {
   "cell_type": "markdown",
   "id": "d0aaaf04",
   "metadata": {},
   "source": [
    "\n",
    "## Check Your Understanding\n",
    "\n",
    "Explain the following ideas to AI in your own words, and ask it to correct or clarify your explanation if needed:\n",
    "\n",
    "- What an object is in Python\n",
    "- The difference between class variables and instance variables\n",
    "- What `self` represents in a class method\n"
   ]
  },
  {
   "cell_type": "markdown",
   "id": "7f3d75a5",
   "metadata": {},
   "source": [
    "\n",
    "## Generate Your Own Practice Question\n",
    "\n",
    "Use this prompt to have AI generate a beginner-level OOP problem for you. Try solving it before asking for help.\n",
    "\n",
    "```\n",
    "I am a beginning python student in an intro course that is learning coding for the first time. I want you to create a practice problem for me on basic object-oriented programming, such as creating objects with instance variables and simple methods. So far, I've learned how to create variables, getting inputs, some popular built-in functions, if statements, some basic for and while loops, lists, dictionaries, writing custom functions, and exception handling. The problem you make doesn't have to use all...\n",
    "```\n"
   ]
  }
 ],
 "metadata": {},
 "nbformat": 4,
 "nbformat_minor": 5
}
