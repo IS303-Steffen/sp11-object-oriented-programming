{
 "cells": [
  {
   "cell_type": "markdown",
   "id": "b03fe94f",
   "metadata": {},
   "source": [
    "\n",
    "# Syntax & Concepts: Object-Oriented Programming (OOP)\n",
    "\n",
    "### Before Class:\n",
    "\n",
    "1. **Read this notebook and attempt each \"You Try\" section.**\n",
    "    - Need help? Check the AI tips or your textbook.\n",
    "\n",
    "2. **Complete at least one practice problem from this chapter.**\n",
    "    - Problems are ordered from easiest to hardest.\n",
    "    - Stuck? Copy and paste the instructions and AI prompt into your preferred AI service for guided help.\n",
    "\n",
    "3. **Submit your attempted practice problem code in the \"Class Prep Report\" on Learning Suite for credit.**\n",
    "\n",
    "#### Need more explanation? Copy and paste this AI prompt along with any code you have questions about:\n",
    "(Double-click the text below, then copy and paste it into your AI service.)\n",
    "\n",
    "```\n",
    "I am new to Python and just starting to learn coding. I need simple, clear explanations. When I ask a question or show my code, act like my personal tutor: correct mistakes gently, clarify misconceptions, and use easy-to-follow language. Feel free to use examples or metaphors to help me understand. Let me know when I'm doing well or what I need to adjust.\n",
    "```\n"
   ]
  },
  {
   "cell_type": "markdown",
   "id": "eefe3c46",
   "metadata": {},
   "source": [
    "\n",
    "### Chapter Summary\n",
    "\n",
    "In this chapter, you'll learn the fundamentals of Object-Oriented Programming (OOP) in Python.\n",
    "\n",
    "Key concepts include:\n",
    "- Creating **classes** and **objects**\n",
    "- Defining **instance variables** and **class variables**\n",
    "- Writing **methods** inside classes\n",
    "- Understanding the `self` keyword and how it connects instance data to methods\n",
    "\n",
    "OOP helps you organize your code around \"things\" (objects) and their behaviors.\n"
   ]
  },
  {
   "cell_type": "markdown",
   "id": "a17328c9",
   "metadata": {},
   "source": [
    "\n",
    "## 1: Creating a Class and an Object\n",
    "\n",
    "A class defines a type of object. You can use it to create multiple objects (instances) that share the same structure and behavior. Objects are special data structures. You can store variables as well as entire functions inside them. When starting out, you need to create the `__init__(self)` function. \n"
   ]
  },
  {
   "cell_type": "code",
   "execution_count": null,
   "id": "e7ab46e1",
   "metadata": {},
   "outputs": [],
   "source": [
    "class Dog:\n",
    "    def __init__(self, name):\n",
    "        self.name = name\n",
    "\n",
    "my_dog = Dog(\"Fido\") # creating a Dog object\n",
    "another_dog = Dog(\"George\") # creating another Dog object\n",
    "print(my_dog.name)\n",
    "print(another_dog.name)"
   ]
  },
  {
   "cell_type": "markdown",
   "id": "2339dabf",
   "metadata": {},
   "source": [
    "\n",
    "### 1.p: You Try\n",
    "\n",
    "Create a `Car` class with an `__init__` method that sets a `brand` attribute. Then create one `Car` object and print the brand.\n"
   ]
  },
  {
   "cell_type": "code",
   "execution_count": null,
   "id": "f68b2fe3",
   "metadata": {},
   "outputs": [],
   "source": [
    "# Your code here\n"
   ]
  },
  {
   "cell_type": "markdown",
   "id": "fcd328df",
   "metadata": {},
   "source": [
    "\n",
    "## 2: Instance Variables vs Class Variables\n",
    "\n",
    "Instance variables are unique to each object. Class variables are shared across all instances.\n"
   ]
  },
  {
   "cell_type": "code",
   "execution_count": null,
   "id": "4d58c34a",
   "metadata": {},
   "outputs": [],
   "source": [
    "class Store:\n",
    "    location = \"Online\"  # class variable\n",
    "\n",
    "    def __init__(self, name):\n",
    "        self.name = name  # instance variable\n",
    "\n",
    "store1 = Store(\"Books & More\")\n",
    "store2 = Store(\"Tech Central\")\n",
    "\n",
    "print(store1.name)\n",
    "print(store2.name)\n",
    "print(store1.location)\n",
    "print(store2.location)"
   ]
  },
  {
   "cell_type": "markdown",
   "id": "23499450",
   "metadata": {},
   "source": [
    "\n",
    "### 2.p: You Try\n",
    "\n",
    "Create a `Bank` class with a class variable `country = \"USA\"` and an instance variable for `account_holder`. Then make two `Bank` objects and print their account holders and country.\n"
   ]
  },
  {
   "cell_type": "code",
   "execution_count": null,
   "id": "e872f80d",
   "metadata": {},
   "outputs": [],
   "source": [
    "# Your code here\n"
   ]
  },
  {
   "cell_type": "markdown",
   "id": "99e93ccf",
   "metadata": {},
   "source": [
    "\n",
    "## 3: Methods in Classes\n",
    "\n",
    "A method is a function defined inside a class that usually uses `self` to work with an object's data.\n"
   ]
  },
  {
   "cell_type": "code",
   "execution_count": null,
   "id": "2100522a",
   "metadata": {},
   "outputs": [],
   "source": [
    "class Product:\n",
    "    def __init__(self, name, price):\n",
    "        self.name = name\n",
    "        self.price = price\n",
    "\n",
    "    def apply_discount(self, percent):\n",
    "        self.price *= (1 - percent)\n",
    "\n",
    "item = Product(\"Notebook\", 10.0)\n",
    "item.apply_discount(0.1)\n",
    "print(item.price)"
   ]
  },
  {
   "cell_type": "markdown",
   "id": "84958c80",
   "metadata": {},
   "source": [
    "\n",
    "### 3.p: You Try\n",
    "\n",
    "Create a `Customer` class with attributes `name` and `balance`, and a method `add_funds(amount)` that adds to the balance. Test it by creating a customer and adding funds.\n"
   ]
  },
  {
   "cell_type": "code",
   "execution_count": null,
   "id": "fc35be8f",
   "metadata": {},
   "outputs": [],
   "source": [
    "# Your code here\n"
   ]
  },
  {
   "cell_type": "markdown",
   "id": "34b1ab25",
   "metadata": {},
   "source": [
    "\n",
    "## 4: The `self` Keyword\n",
    "\n",
    "The `self` parameter is how a method refers to the current instance (object) of the class.\n"
   ]
  },
  {
   "cell_type": "code",
   "execution_count": null,
   "id": "981ee29a",
   "metadata": {},
   "outputs": [],
   "source": [
    "class Student:\n",
    "    def __init__(self, name):\n",
    "        self.name = name\n",
    "\n",
    "    def say_hello(self):\n",
    "        print(f\"Hi, I'm {self.name}\")\n",
    "\n",
    "s = Student(\"Alex\")\n",
    "s.say_hello()"
   ]
  },
  {
   "cell_type": "markdown",
   "id": "ae4557ae",
   "metadata": {},
   "source": [
    "\n",
    "### 4.p: You Try\n",
    "\n",
    "Make a `Book` class with a title and a method `describe()` that prints `\"This book is titled [title].\"` Use `self` properly.\n"
   ]
  },
  {
   "cell_type": "code",
   "execution_count": null,
   "id": "c46368ce",
   "metadata": {},
   "outputs": [],
   "source": [
    "# Your code here\n"
   ]
  },
  {
   "cell_type": "markdown",
   "id": "aac03371",
   "metadata": {},
   "source": [
    "\n",
    "## Want to Learn More?\n",
    "\n",
    "If you'd like extra help or more details, you can:\n",
    "- **Ask AI**: Use the suggested questions in the `review_with_ai` file.\n",
    "- **Read your textbook**: Check the reading guide on Learning Suite beforehand.\n",
    "- **Review class practice files**: They contain more detailed examples and explanations, available on Learning Suite.\n"
   ]
  }
 ],
 "metadata": {
  "language_info": {
   "name": "python"
  }
 },
 "nbformat": 4,
 "nbformat_minor": 5
}
